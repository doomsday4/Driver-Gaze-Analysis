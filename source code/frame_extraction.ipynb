{
 "cells": [
  {
   "cell_type": "code",
   "execution_count": 17,
   "id": "21aff0d6-219e-40b4-b2ac-85c5ad778514",
   "metadata": {},
   "outputs": [],
   "source": [
    "import cv2\n",
    "import pandas as pd\n",
    "\n",
    "def extract_data(video_path, csv_path, output_csv_path, start_time=180, end_time=300):\n",
    "    # Open the video file\n",
    "    cap = cv2.VideoCapture(video_path)\n",
    "    \n",
    "    # Get the frame rate of the video\n",
    "    fps = cap.get(cv2.CAP_PROP_FPS)\n",
    "    \n",
    "    # Calculate frame numbers corresponding to start and end times\n",
    "    start_frame = int(start_time * fps)\n",
    "    end_frame = int(end_time * fps)\n",
    "    \n",
    "    # Read the CSV file\n",
    "    df = pd.read_csv(csv_path)\n",
    "    \n",
    "    # Filter data corresponding to the specified time range\n",
    "    filtered_df = df[(df['frame'] >= start_frame) & (df['frame'] <= end_frame)]\n",
    "    \n",
    "    # Write the filtered data to a new CSV file\n",
    "    filtered_df.to_csv(output_csv_path, index=False)\n",
    "\n",
    "    # Release the video capture object\n",
    "    cap.release()\n",
    "\n",
    "# Example usage\n",
    "extract_data('/Volumes/DOOMSDAY69/Driving_Data/Drivers/IRIS_DETECTION/D2020230704CD/2023-07-04_17-49-27-3a3a5377/PI world v1 ps1.mp4', '/Volumes/DOOMSDAY69/Driving_Data/Drivers/IRIS_DETECTION/D2020230704CD/Wet_GT_P20.csv', '/Volumes/DOOMSDAY69/Driving_Data/Drivers/IRIS_DETECTION/D2020230704CD/output.csv')\n",
    "\n"
   ]
  },
  {
   "cell_type": "code",
   "execution_count": 19,
   "id": "b8ddb1d7-97ca-49a4-93c0-cf0ba25e912d",
   "metadata": {},
   "outputs": [],
   "source": [
    "import pandas as pd\n",
    "\n",
    "def interpolate_classes(csv_path_1, csv_path_2, output_csv_path):\n",
    "    # Read the first CSV file with fewer frames\n",
    "    df1 = pd.read_csv(csv_path_1)\n",
    "    \n",
    "    # Read the second CSV file with more frames\n",
    "    df2 = pd.read_csv(csv_path_2)\n",
    "    \n",
    "    # Calculate the ratio of frames between the two CSV files\n",
    "    frame_ratio = len(df2) / len(df1)\n",
    "    \n",
    "    # Interpolate the classes from the first CSV file to match the frame rate of the second CSV file\n",
    "    interpolated_classes = []\n",
    "    for i in range(len(df2)):\n",
    "        index = int(i / frame_ratio)\n",
    "        interpolated_classes.append(df1.at[index, 'Class'])\n",
    "    \n",
    "    # Add the interpolated classes to the second CSV file\n",
    "    df2['Class'] = interpolated_classes\n",
    "    \n",
    "    # Write the updated data to a new CSV file\n",
    "    df2.to_csv(output_csv_path, index=False)\n",
    "\n",
    "# Example usage\n",
    "interpolate_classes('/Volumes/DOOMSDAY69/Driving_Data/Drivers/IRIS_DETECTION/D2020230704CD/output.csv', '/Volumes/DOOMSDAY69/Driving_Data/Drivers/IRIS_DETECTION/D2020230704CD/left_output_results1.csv', '/Volumes/DOOMSDAY69/Driving_Data/Drivers/IRIS_DETECTION/D2020230704CD/final_left.csv')\n",
    "\n"
   ]
  },
  {
   "cell_type": "code",
   "execution_count": null,
   "id": "f8c55847-2ee1-48ea-ae1a-53b40cef1393",
   "metadata": {},
   "outputs": [],
   "source": []
  }
 ],
 "metadata": {
  "kernelspec": {
   "display_name": "Python 3 (ipykernel)",
   "language": "python",
   "name": "python3"
  },
  "language_info": {
   "codemirror_mode": {
    "name": "ipython",
    "version": 3
   },
   "file_extension": ".py",
   "mimetype": "text/x-python",
   "name": "python",
   "nbconvert_exporter": "python",
   "pygments_lexer": "ipython3",
   "version": "3.12.2"
  }
 },
 "nbformat": 4,
 "nbformat_minor": 5
}
